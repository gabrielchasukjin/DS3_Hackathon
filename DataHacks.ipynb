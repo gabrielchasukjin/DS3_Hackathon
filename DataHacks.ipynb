{
  "cells": [
    {
      "cell_type": "code",
      "execution_count": 1,
      "metadata": {
        "id": "NoyoJI5Vnqde"
      },
      "outputs": [],
      "source": [
        "import numpy as np\n",
        "import pandas as pd\n",
        "import matplotlib.pyplot as plt"
      ]
    },
    {
      "cell_type": "code",
      "execution_count": 2,
      "metadata": {
        "id": "1QP9z_s_wwLs",
        "colab": {
          "resources": {
            "http://localhost:8080/nbextensions/google.colab/files.js": {
              "data": "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",
              "ok": true,
              "headers": [
                [
                  "content-type",
                  "application/javascript"
                ]
              ],
              "status": 200,
              "status_text": ""
            }
          },
          "base_uri": "https://localhost:8080/",
          "height": 74
        },
        "outputId": "b77877a6-d1fd-47e8-9ae8-4d76176a81a4"
      },
      "outputs": [
        {
          "output_type": "display_data",
          "data": {
            "text/plain": [
              "<IPython.core.display.HTML object>"
            ],
            "text/html": [
              "\n",
              "     <input type=\"file\" id=\"files-b9511e12-a64a-4aa8-a58f-a11f97af0c27\" name=\"files[]\" multiple disabled\n",
              "        style=\"border:none\" />\n",
              "     <output id=\"result-b9511e12-a64a-4aa8-a58f-a11f97af0c27\">\n",
              "      Upload widget is only available when the cell has been executed in the\n",
              "      current browser session. Please rerun this cell to enable.\n",
              "      </output>\n",
              "      <script src=\"/nbextensions/google.colab/files.js\"></script> "
            ]
          },
          "metadata": {}
        },
        {
          "output_type": "stream",
          "name": "stdout",
          "text": [
            "Saving beginner.csv to beginner.csv\n"
          ]
        }
      ],
      "source": [
        "\n",
        "from google.colab import files\n",
        "uploaded = files.upload()\n"
      ]
    },
    {
      "cell_type": "code",
      "execution_count": 4,
      "metadata": {
        "id": "rXOzNxfhoHOc"
      },
      "outputs": [],
      "source": [
        "df = pd.read_csv(\"beginner.csv\")\n",
        "\n",
        "df = df.set_index(\"SERIAL\")\n",
        "df = df.sort_values(by = \"INCWAGE\", ascending = False)\n",
        "\n",
        "#Clean data\n",
        "df = df[(df.get(\"INCWAGE\") != 99999999) & (df.get(\"INCWAGE\").notnull())] "
      ]
    },
    {
      "cell_type": "code",
      "execution_count": 6,
      "metadata": {
        "id": "ydqpKhi3-lTO"
      },
      "outputs": [],
      "source": [
        "#from sklearn import linear_model\n",
        "import statsmodels.api as sm\n",
        "from sklearn.preprocessing import OneHotEncoder\n",
        "from sklearn.linear_model import LinearRegression\n",
        "from sklearn.metrics import mean_absolute_error\n",
        "from sklearn.model_selection import train_test_split\n",
        "\n",
        "\n",
        "encoder = OneHotEncoder(drop='first', sparse=False, handle_unknown=\"ignore\")"
      ]
    },
    {
      "cell_type": "code",
      "source": [
        "#Model 1\n",
        "X_train, X_test, y_train, y_test = train_test_split(df[[\"YEAR\", \"EDUC\", \"SEX\", \"UHRSWORKT\"]], df[\"INCWAGE\"])\n",
        "\n",
        "onehot_training = encoder.fit_transform(X_train)\n",
        "print(onehot_training)\n",
        "onehot_validation = encoder.transform(X_test)\n",
        "\n",
        "model = LinearRegression()\n",
        "model.fit(onehot_training, y_train)\n",
        "\n",
        "print(\"Intercept \", model.intercept_)\n",
        "print(\"Coeff \", model.coef_)\n",
        "print(\"Mean squared error: %.2f\" % np.mean((model.predict(onehot_validation) - y_test) ** 2))\n",
        "print(\"MAE \" + str(mean_absolute_error(model.predict(onehot_validation), y_test)))"
      ],
      "metadata": {
        "colab": {
          "base_uri": "https://localhost:8080/"
        },
        "id": "GTEGLhyH9G_9",
        "outputId": "46e20d8e-b0df-45f3-d389-28f378f0fbaf"
      },
      "execution_count": 7,
      "outputs": [
        {
          "output_type": "stream",
          "name": "stdout",
          "text": [
            "[[0. 0. 0. ... 0. 0. 1.]\n",
            " [0. 0. 0. ... 0. 0. 0.]\n",
            " [0. 0. 0. ... 0. 0. 0.]\n",
            " ...\n",
            " [1. 0. 0. ... 0. 0. 0.]\n",
            " [0. 0. 0. ... 0. 0. 1.]\n",
            " [0. 0. 0. ... 0. 0. 0.]]\n",
            "Intercept  10614.529610007128\n",
            "Coeff  [-1.20750190e+02 -6.86757656e+02  1.15795806e+03 -1.09994357e+03\n",
            "  7.27330400e+02  3.75065871e+02  1.15794146e+03  8.18848914e+02\n",
            "  3.20560830e+03  4.06590505e+03  4.75822221e+03  7.82302946e+03\n",
            " -1.25724890e+03 -1.58427548e+03  8.27612538e+01  2.13200143e+02\n",
            " -9.35017536e+01 -4.24116661e+01  3.83435680e+02  3.19674632e+03\n",
            "  4.77796340e+03  4.71203698e+03  9.34890985e+03  2.16181244e+04\n",
            "  3.10928764e+04  7.27968065e+04  6.87854542e+04 -8.96607858e+03\n",
            " -8.06133599e+02 -2.08247793e+04 -1.80333383e+04 -7.79500190e+03\n",
            "  5.91579563e+03 -1.26132349e+04 -8.06914021e+03 -5.11601743e+03\n",
            "  1.03729566e+04 -9.03523426e+03 -2.10968543e+03 -6.31641965e+03\n",
            " -1.38137313e+04 -1.45801817e+03 -2.26945471e+03 -1.32387705e+03\n",
            "  1.41381544e+04  4.78514388e+03 -1.19176495e+04 -1.49297839e+03\n",
            " -2.33509257e+03 -3.84260605e+03  2.77685669e+03  5.30796832e+03\n",
            "  3.17815701e+03 -2.29353509e+03  2.16381464e+04 -2.67999584e+02\n",
            "  3.89222489e+03  6.86985026e+03 -4.85761402e+02  1.23959064e+04\n",
            "  1.53011329e+04  3.66545458e+03  1.51921059e+04  2.21650981e+04\n",
            "  2.40005394e+04  1.86041015e+04  1.65426683e+04  2.86502460e+04\n",
            "  1.39534696e+04  3.21251892e+04  3.87589496e+04  1.86348556e+04\n",
            "  3.71771485e+04  2.95553613e+04  9.82610103e+04  2.48642037e+04\n",
            "  9.43284297e+03  4.80423003e+04  2.83241945e+04  1.71074850e+04\n",
            "  3.92455889e+04  4.05106369e+04  4.11428665e+04  2.25299914e+04\n",
            "  2.52036022e+04 -6.64281755e+02  1.65350548e+04  5.52902481e+04\n",
            "  2.70400156e+04  3.46174617e+04  3.04371632e+04  1.12953458e+04\n",
            "  5.18739488e+04  2.50123131e+04  4.29153027e+04  1.18044978e+04\n",
            "  1.11548026e+04  4.96783568e+04  3.77124739e+04  6.85358387e+04\n",
            "  2.54333349e+04  9.61464286e+03  3.33385744e+04  3.00842660e+04\n",
            "  4.55872804e+04  2.13679773e+04  7.67844775e+04  5.03899134e+04\n",
            "  5.83344521e+04  1.34030766e+05  3.70699812e+04  2.94801943e+04\n",
            "  2.38422801e+04 -2.21134192e+03  1.38786191e+04  2.60307826e+04\n",
            "  1.23236130e+04  7.91135111e+04  5.84305019e+04  8.42207116e+04\n",
            " -2.07089711e+04  1.60616766e+04 -1.01963658e+04]\n",
            "Mean squared error: 1836948805.34\n",
            "MAE 20323.131997958306\n"
          ]
        },
        {
          "output_type": "stream",
          "name": "stderr",
          "text": [
            "/usr/local/lib/python3.7/dist-packages/sklearn/preprocessing/_encoders.py:174: UserWarning: Found unknown categories in columns [3] during transform. These unknown categories will be encoded as all zeros\n",
            "  UserWarning,\n"
          ]
        }
      ]
    },
    {
      "cell_type": "code",
      "source": [
        "#Model 2\n",
        "X2_train, X2_test, y_train2, y_test2 = train_test_split(df[[\"EMPSTAT\", \"WKSTAT\", \"NFAMS\", \"EDUC\"]], df[\"INCWAGE\"])\n",
        "\n",
        "onehot_training2 = encoder.fit_transform(X2_train)\n",
        "onehot_validation2 = encoder.transform(X2_test)\n",
        "\n",
        "model2 = LinearRegression()\n",
        "model2.fit(onehot_training2, y_train2)\n",
        "print(\"Intercept \", model2.intercept_)\n",
        "print(\"Coeff \", model2.coef_)\n",
        "print(\"Mean squared error: %.2f\" % np.mean((model2.predict(onehot_validation2) - y_test2) ** 2))\n",
        "print(\"MAE \" + str(mean_absolute_error(model2.predict(onehot_validation2), y_test2)))"
      ],
      "metadata": {
        "colab": {
          "base_uri": "https://localhost:8080/"
        },
        "id": "DKtZkIKh89xj",
        "outputId": "c8ffa1fa-938f-4cd2-d54e-ab9b735de32d"
      },
      "execution_count": 8,
      "outputs": [
        {
          "output_type": "stream",
          "name": "stdout",
          "text": [
            "Intercept  -1.5512059282475197e+17\n",
            "Coeff  [ 1.55120593e+17  1.37850960e+17  8.09753935e+16  8.09753935e+16\n",
            " -4.75597106e+04 -4.68796172e+04 -5.18974061e+04 -1.93108133e+03\n",
            "  1.72696329e+16 -1.36377709e+04 -2.21405542e+04 -1.14194871e+04\n",
            " -3.19311816e+04 -3.40132442e+04  1.72696329e+16  7.41451993e+16\n",
            "  7.41451993e+16  1.55120593e+17 -7.85853598e+03 -1.11813886e+04\n",
            " -1.02649142e+04 -4.18618507e+03  1.66986818e+03 -1.17101755e+04\n",
            " -4.03346439e+03 -1.61493932e+03 -3.03264904e+04 -8.99125506e+02\n",
            " -5.82659713e+03 -4.60146466e+03 -2.93750921e+03 -3.64613091e+03\n",
            " -3.78048619e+03 -4.59900000e+03 -1.68150000e+03 -1.09800000e+03\n",
            "  9.20000000e+01  5.11500000e+02  5.27800000e+03  1.77000000e+04\n",
            "  3.01040000e+04  6.67440000e+04  6.16810000e+04]\n",
            "Mean squared error: 1835191090.78\n",
            "MAE 19679.34797226308\n"
          ]
        }
      ]
    },
    {
      "cell_type": "code",
      "source": [
        "#Model 3\n",
        "X3_train, X3_test, y_train3, y_test3 = train_test_split(df[[\"RACE\", \"EMPSTAT\"]], df[\"INCWAGE\"])\n",
        "\n",
        "onehot_training3 = encoder.fit_transform(X3_train)\n",
        "onehot_validation3 = encoder.transform(X3_test)\n",
        "\n",
        "\n",
        "model3 = LinearRegression()\n",
        "model3.fit(onehot_training3, y_train3)\n",
        "print(\"Intercept \", model3.intercept_)\n",
        "print(\"Coeff \", model3.coef_)\n",
        "\n",
        "print(\"Mean squared error: %.2f\" % np.mean((model3.predict(onehot_validation3) - y_test3) ** 2))\n",
        "print(\"MAE \" + str(mean_absolute_error(model3.predict(onehot_validation3), y_test3)))"
      ],
      "metadata": {
        "colab": {
          "base_uri": "https://localhost:8080/"
        },
        "id": "N-zdqZsB9A4e",
        "outputId": "233e744d-4e23-4581-bfcd-46fcbfad02b7"
      },
      "execution_count": 9,
      "outputs": [
        {
          "output_type": "stream",
          "name": "stdout",
          "text": [
            "Intercept  58330.09445954311\n",
            "Coeff  [ -5253.046273    -8663.82323768   6211.7547669   -7344.8281\n",
            "  -6110.0632191   -4460.11572147   -441.90651906 -10788.40378024\n",
            " -11306.2719197    4926.57090482    534.80628544  -9704.04540363\n",
            " -43270.81361782  -5810.62958791 -23270.81361781 -11059.28084173\n",
            " -21198.99201365 -41678.054836   -56852.73934987 -55536.40775105\n",
            " -55792.66041536 -55898.55080405]\n",
            "Mean squared error: 1549309316.89\n",
            "MAE 21268.281629834273\n"
          ]
        },
        {
          "output_type": "stream",
          "name": "stderr",
          "text": [
            "/usr/local/lib/python3.7/dist-packages/sklearn/preprocessing/_encoders.py:174: UserWarning: Found unknown categories in columns [0] during transform. These unknown categories will be encoded as all zeros\n",
            "  UserWarning,\n"
          ]
        }
      ]
    },
    {
      "cell_type": "code",
      "source": [
        "#Model 4\n",
        "X4_train, X4_test, y_train4, y_test4 = train_test_split(df[[\"YEAR\", \"EDUC\", \"SEX\", \"UHRSWORKT\", \"EMPSTAT\", \"WKSTAT\", \"NFAMS\", \"RACE\"]], df[\"INCWAGE\"])\n",
        "\n",
        "onehot_training4 = encoder.fit_transform(X4_train)\n",
        "onehot_validation4 = encoder.transform(X4_test)\n",
        "\n",
        "model4 = LinearRegression()\n",
        "model4.fit(onehot_training4, y_train4)\n",
        "print(\"Intercept \", model4.intercept_)\n",
        "print(\"Coeff \", model4.coef_)\n",
        "print(\"Mean squared error: %.2f\" % np.mean((model4.predict(onehot_validation4) - y_test4) ** 2))\n",
        "print(\"MAE \" + str(mean_absolute_error(model4.predict(onehot_validation4), y_test4)))\n"
      ],
      "metadata": {
        "colab": {
          "base_uri": "https://localhost:8080/"
        },
        "id": "ooybSu8n9DNA",
        "outputId": "d7554494-bf8c-4c8b-f2b1-a7904c68d676"
      },
      "execution_count": 10,
      "outputs": [
        {
          "output_type": "stream",
          "name": "stderr",
          "text": [
            "/usr/local/lib/python3.7/dist-packages/sklearn/preprocessing/_encoders.py:174: UserWarning: Found unknown categories in columns [3, 7] during transform. These unknown categories will be encoded as all zeros\n",
            "  UserWarning,\n"
          ]
        },
        {
          "output_type": "stream",
          "name": "stdout",
          "text": [
            "Intercept  1.4956076473345252e+16\n",
            "Coeff  [ 1.26843328e+02 -1.99925055e+03 -2.11479180e+02 -1.43164506e+03\n",
            " -7.99915610e+01  6.16198552e+02  1.81407528e+03  7.69211194e+02\n",
            "  3.54029264e+03  4.71294339e+03  6.21505508e+03  7.44923471e+03\n",
            " -3.87772112e+03 -3.29706356e+03 -1.39176857e+03 -2.10311071e+03\n",
            " -1.77015225e+03 -2.14713499e+03  3.54277056e+02  7.85321275e+02\n",
            "  2.51574088e+03  2.81821801e+03  7.54972088e+03  1.90439232e+04\n",
            "  3.04296577e+04  6.22704685e+04  5.26004035e+04 -7.47553997e+03\n",
            "  4.70125711e+04 -1.66788925e+03 -1.75136349e+04 -1.02837757e+04\n",
            " -9.83367935e+03 -1.55423613e+04 -1.62853788e+04 -5.86485076e+03\n",
            " -1.60882931e+04 -1.28934706e+04 -8.72476725e+03 -1.00915596e+04\n",
            " -1.99043939e+04 -6.92153901e+03 -1.05858428e+04 -7.88838430e+03\n",
            "  5.40427579e+03 -1.83717283e+03 -1.39103745e+04 -6.50099038e+03\n",
            " -1.21623225e+04 -5.50475367e+03 -6.10451934e+03  9.59334651e+02\n",
            " -1.71024078e+03 -3.59587915e+03  1.23998344e+04 -6.64851574e+02\n",
            " -9.87696933e+03 -1.59046257e+03 -5.80378823e+03  7.04190251e+03\n",
            "  1.25548437e+04  6.07660654e+03 -1.43282337e+04 -9.63943375e+03\n",
            " -9.40859445e+03 -6.71383464e+03 -1.30802662e+04 -9.30760356e+02\n",
            " -1.41072466e+04  2.67610947e+03 -5.75923548e+03 -1.15762952e+04\n",
            "  8.98638356e+03 -1.23094729e+04  5.87187436e+03 -4.05816781e+03\n",
            " -2.23678117e+04  2.14479989e+04 -2.19337749e+03 -1.23352664e+04\n",
            "  7.54710605e+03 -5.22686298e+03  1.37461002e+04 -6.81422171e+03\n",
            " -1.10843911e+04 -1.01055849e+04 -1.40236419e+04  2.22747714e+04\n",
            " -2.08569694e+03 -4.02085570e+03 -1.67752910e+04  1.27484279e+04\n",
            " -6.99177991e+03  1.42891766e+04 -6.35901358e+03  1.55395614e+04\n",
            "  9.89336352e+03  1.39400082e+04  3.84545668e+04 -7.28844496e+03\n",
            " -1.67173706e+04  1.41570403e+04 -2.40221527e+03  1.39799080e+04\n",
            " -3.13432172e+03  4.68175970e+04  1.08536758e+04  1.00115056e+05\n",
            "  1.05188166e+05 -2.34825346e+03  5.13632475e+03 -1.11344060e+03\n",
            " -3.52004587e+03 -2.93091528e+04 -1.74414958e+04  2.86313213e+03\n",
            " -2.22104738e+04  5.23152239e+04  2.67991942e+04 -6.77143500e+03\n",
            " -8.20892379e+16 -1.49560765e+16  1.21867074e+16  2.77527571e+16\n",
            "  2.77527571e+16 -4.47436911e+04 -4.39073759e+04 -5.00499793e+04\n",
            "  4.35831514e+03 -2.71427839e+16 -7.30870051e+03 -1.10475488e+04\n",
            " -2.33124693e+03 -2.54525046e+04 -2.49192260e+04 -2.71427839e+16\n",
            "  3.93804044e+16  3.93804044e+16  6.71331614e+16 -7.55546268e+03\n",
            " -9.91965995e+03 -1.06590751e+04 -5.14257533e+03  2.23528852e+03\n",
            " -7.19584065e+03 -1.27119207e+04 -9.63773415e+03 -2.16607065e+04\n",
            " -3.22581086e+03 -3.07222162e+03 -4.85446235e+03 -1.58753479e+03\n",
            " -5.77585217e+03 -4.85175883e+03 -3.21940754e+03 -1.09114624e+03\n",
            " -4.46432973e+03 -3.17603216e+03 -1.41904046e+04 -3.41950945e+03\n",
            " -1.35792896e+04 -8.66445521e+03  6.91274107e+03]\n",
            "Mean squared error: 2191431282.46\n",
            "MAE 20262.59277159067\n"
          ]
        }
      ]
    }
  ],
  "metadata": {
    "colab": {
      "collapsed_sections": [],
      "name": "DataHacks",
      "provenance": []
    },
    "kernelspec": {
      "display_name": "Python 3",
      "name": "python3"
    },
    "language_info": {
      "name": "python"
    }
  },
  "nbformat": 4,
  "nbformat_minor": 0
}